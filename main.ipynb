{
 "cells": [
  {
   "cell_type": "markdown",
   "id": "574ead30",
   "metadata": {},
   "source": [
    "# Import thư viện\n"
   ]
  },
  {
   "cell_type": "code",
   "execution_count": 1,
   "id": "901d4c90",
   "metadata": {},
   "outputs": [],
   "source": [
    "from underthesea import word_tokenize\n",
    "import pandas as pd\n",
    "import re\n",
    "import numpy as np\n",
    "from sklearn.ensemble import RandomForestClassifier\n",
    "from sklearn.model_selection import train_test_split\n",
    "from sklearn.feature_extraction.text import TfidfVectorizer\n",
    "from sklearn.pipeline import make_pipeline\n",
    "from sklearn import metrics\n",
    "from sklearn.model_selection import cross_val_score\n",
    "import time\n",
    "import joblib\n",
    "from sklearn.model_selection import RandomizedSearchCV\n",
    "from sklearn.naive_bayes import MultinomialNB\n",
    "from sklearn.linear_model import SGDClassifier"
   ]
  },
  {
   "cell_type": "markdown",
   "id": "14de9c05",
   "metadata": {},
   "source": [
    "# Thu thập dữ liệu"
   ]
  },
  {
   "cell_type": "markdown",
   "id": "1832e978",
   "metadata": {},
   "source": [
    "**Tổng quan**\n",
    "> Tin giả đang là một vấn đề nhức nhối của xã hội, đặc biệt trong thời đại bùng nổ\n",
    "thông tin hiện nay. Đồ án này sẽ cho phép các bạn làm việc với dữ liệu văn bản tiếng\n",
    "Việt, xây dựng mô hình dự đoán tin giả và deploy mô hình này lên một trang web đơn\n",
    "giản.\n",
    "\n",
    "**Chi tiết**\n",
    "> Nguồn dữ liệu: VNFD Dataset\\\n",
    "    - Tập dữ liệu 223 record bản tin tiếng Việt, gồm 2 nhãn: 1 (tin giả) và 0 (tin thật)\\\n",
    "    - Mô tả dữ liệu: [Mô tả tập VNFD](https://github.com/thanhhocse96/vfnd-vietnamese-fake-news-datasets/tree/master/CSV)"
   ]
  },
  {
   "cell_type": "markdown",
   "id": "cb5b1fb6",
   "metadata": {},
   "source": [
    "# Khám phá dữ liệu"
   ]
  },
  {
   "cell_type": "markdown",
   "id": "e729a4e5",
   "metadata": {},
   "source": [
    "## Đọc dữ liệu vào"
   ]
  },
  {
   "cell_type": "code",
   "execution_count": 2,
   "id": "19377f7c",
   "metadata": {},
   "outputs": [],
   "source": [
    "data = pd.read_csv(\"dataset_raw.csv\")"
   ]
  },
  {
   "cell_type": "markdown",
   "id": "a4f451ea",
   "metadata": {},
   "source": [
    "* hiển thị vài dòng đầu & vài dòng cuối để xem sét."
   ]
  },
  {
   "cell_type": "code",
   "execution_count": 3,
   "id": "274596ab",
   "metadata": {},
   "outputs": [
    {
     "data": {
      "text/html": [
       "<div>\n",
       "<style scoped>\n",
       "    .dataframe tbody tr th:only-of-type {\n",
       "        vertical-align: middle;\n",
       "    }\n",
       "\n",
       "    .dataframe tbody tr th {\n",
       "        vertical-align: top;\n",
       "    }\n",
       "\n",
       "    .dataframe thead th {\n",
       "        text-align: right;\n",
       "    }\n",
       "</style>\n",
       "<table border=\"1\" class=\"dataframe\">\n",
       "  <thead>\n",
       "    <tr style=\"text-align: right;\">\n",
       "      <th></th>\n",
       "      <th>text</th>\n",
       "      <th>domain</th>\n",
       "      <th>label</th>\n",
       "    </tr>\n",
       "  </thead>\n",
       "  <tbody>\n",
       "    <tr>\n",
       "      <th>0</th>\n",
       "      <td>Thủ tướng Abe cúi đầu xin lỗi vì hành động phi...</td>\n",
       "      <td>binhluan.biz</td>\n",
       "      <td>1</td>\n",
       "    </tr>\n",
       "    <tr>\n",
       "      <th>1</th>\n",
       "      <td>Thủ tướng Nhật cúi đầu xin lỗi vì tinh thần ph...</td>\n",
       "      <td>www.ipick.vn</td>\n",
       "      <td>1</td>\n",
       "    </tr>\n",
       "    <tr>\n",
       "      <th>2</th>\n",
       "      <td>Choáng! Cơ trưởng đeo khăn quàng quẩy banh nóc...</td>\n",
       "      <td>tintucqpvn.net</td>\n",
       "      <td>1</td>\n",
       "    </tr>\n",
       "    <tr>\n",
       "      <th>3</th>\n",
       "      <td>Chưa bao giờ nhạc Kpop lại dễ hát đến thế!!!\\r...</td>\n",
       "      <td>tintucqpvn.net</td>\n",
       "      <td>1</td>\n",
       "    </tr>\n",
       "    <tr>\n",
       "      <th>4</th>\n",
       "      <td>Đại học Hutech sẽ áp dụng cải cách \"Tiếq Việt\"...</td>\n",
       "      <td>www.gioitreviet.net</td>\n",
       "      <td>1</td>\n",
       "    </tr>\n",
       "  </tbody>\n",
       "</table>\n",
       "</div>"
      ],
      "text/plain": [
       "                                                text               domain  \\\n",
       "0  Thủ tướng Abe cúi đầu xin lỗi vì hành động phi...         binhluan.biz   \n",
       "1  Thủ tướng Nhật cúi đầu xin lỗi vì tinh thần ph...         www.ipick.vn   \n",
       "2  Choáng! Cơ trưởng đeo khăn quàng quẩy banh nóc...       tintucqpvn.net   \n",
       "3  Chưa bao giờ nhạc Kpop lại dễ hát đến thế!!!\\r...       tintucqpvn.net   \n",
       "4  Đại học Hutech sẽ áp dụng cải cách \"Tiếq Việt\"...  www.gioitreviet.net   \n",
       "\n",
       "   label  \n",
       "0      1  \n",
       "1      1  \n",
       "2      1  \n",
       "3      1  \n",
       "4      1  "
      ]
     },
     "execution_count": 3,
     "metadata": {},
     "output_type": "execute_result"
    }
   ],
   "source": [
    "data.head()"
   ]
  },
  {
   "cell_type": "code",
   "execution_count": 4,
   "id": "71a26cf4",
   "metadata": {},
   "outputs": [
    {
     "data": {
      "text/html": [
       "<div>\n",
       "<style scoped>\n",
       "    .dataframe tbody tr th:only-of-type {\n",
       "        vertical-align: middle;\n",
       "    }\n",
       "\n",
       "    .dataframe tbody tr th {\n",
       "        vertical-align: top;\n",
       "    }\n",
       "\n",
       "    .dataframe thead th {\n",
       "        text-align: right;\n",
       "    }\n",
       "</style>\n",
       "<table border=\"1\" class=\"dataframe\">\n",
       "  <thead>\n",
       "    <tr style=\"text-align: right;\">\n",
       "      <th></th>\n",
       "      <th>text</th>\n",
       "      <th>domain</th>\n",
       "      <th>label</th>\n",
       "    </tr>\n",
       "  </thead>\n",
       "  <tbody>\n",
       "    <tr>\n",
       "      <th>218</th>\n",
       "      <td>“Siêu máy bay” A350 sẽ chở CĐV Việt Nam đi Mal...</td>\n",
       "      <td>dantri.com.vn</td>\n",
       "      <td>0</td>\n",
       "    </tr>\n",
       "    <tr>\n",
       "      <th>219</th>\n",
       "      <td>Thưởng 20.000 USD cho đội tuyển cờ vua Việt Na...</td>\n",
       "      <td>dantri.com.vn</td>\n",
       "      <td>0</td>\n",
       "    </tr>\n",
       "    <tr>\n",
       "      <th>220</th>\n",
       "      <td>Trường Sơn giành HCV tại giải cờ vua đồng đội ...</td>\n",
       "      <td>dantri.com.vn</td>\n",
       "      <td>0</td>\n",
       "    </tr>\n",
       "    <tr>\n",
       "      <th>221</th>\n",
       "      <td>Chuyện về chàng sinh viên Luật - Kiện tướng Lê...</td>\n",
       "      <td>dantri.com.vn</td>\n",
       "      <td>0</td>\n",
       "    </tr>\n",
       "    <tr>\n",
       "      <th>222</th>\n",
       "      <td>Tiền đạo Malaysia: “Tôi đã có cách vượt qua hà...</td>\n",
       "      <td>dantri.com.vn</td>\n",
       "      <td>0</td>\n",
       "    </tr>\n",
       "  </tbody>\n",
       "</table>\n",
       "</div>"
      ],
      "text/plain": [
       "                                                  text         domain  label\n",
       "218  “Siêu máy bay” A350 sẽ chở CĐV Việt Nam đi Mal...  dantri.com.vn      0\n",
       "219  Thưởng 20.000 USD cho đội tuyển cờ vua Việt Na...  dantri.com.vn      0\n",
       "220  Trường Sơn giành HCV tại giải cờ vua đồng đội ...  dantri.com.vn      0\n",
       "221  Chuyện về chàng sinh viên Luật - Kiện tướng Lê...  dantri.com.vn      0\n",
       "222  Tiền đạo Malaysia: “Tôi đã có cách vượt qua hà...  dantri.com.vn      0"
      ]
     },
     "execution_count": 4,
     "metadata": {},
     "output_type": "execute_result"
    }
   ],
   "source": [
    "data.tail()"
   ]
  },
  {
   "cell_type": "markdown",
   "id": "6412d728",
   "metadata": {},
   "source": [
    "## Dữ liệu có bao nhiêu dòng và bao nhiêu cột?"
   ]
  },
  {
   "cell_type": "code",
   "execution_count": 5,
   "id": "8066d417",
   "metadata": {},
   "outputs": [],
   "source": [
    "nrows, ncols = data.shape"
   ]
  },
  {
   "cell_type": "code",
   "execution_count": 6,
   "id": "ba10e2c7",
   "metadata": {
    "scrolled": true
   },
   "outputs": [
    {
     "name": "stdout",
     "output_type": "stream",
     "text": [
      "Dataset have 223 rows and 3 columns\n"
     ]
    }
   ],
   "source": [
    "print(\"Dataset have {} rows and {} columns\".format(nrows, ncols))"
   ]
  },
  {
   "cell_type": "markdown",
   "id": "f36a2f7f",
   "metadata": {},
   "source": [
    "## Mỗi dòng có ý nghĩa gì? Có vấn đề các dòng có ý nghĩa khác nhau không?"
   ]
  },
  {
   "cell_type": "markdown",
   "id": "adf96bf5",
   "metadata": {},
   "source": [
    "- Mỗi record dữ liệu bao gồm 2 trường Text và Label. Text tổng hợp từ các tin tức giả và thật từ Facebook và Báo chí, tin tức báo chí sẽ bao gồm phần tiêu đề và nội dung.\\\n",
    "$\\to$ nhìn chung thì các dòng đều có chung ý nghĩa."
   ]
  },
  {
   "cell_type": "markdown",
   "id": "fd1085e0",
   "metadata": {},
   "source": [
    "## Dữ liệu có các dòng bị lặp không?"
   ]
  },
  {
   "cell_type": "code",
   "execution_count": 7,
   "id": "f509db4c",
   "metadata": {},
   "outputs": [
    {
     "name": "stdout",
     "output_type": "stream",
     "text": [
      "Dataset have 1 duplicated rows\n"
     ]
    }
   ],
   "source": [
    "n_duplicated_rows = data.duplicated().sum()\n",
    "\n",
    "print(\"Dataset have {} duplicated rows\".format(n_duplicated_rows))"
   ]
  },
  {
   "cell_type": "markdown",
   "id": "8d581d41",
   "metadata": {},
   "source": [
    "$\\to$ có 1 dòng bị trùng nên phải xóa dòng đó đi."
   ]
  },
  {
   "cell_type": "markdown",
   "id": "544abfe1",
   "metadata": {},
   "source": [
    "----"
   ]
  },
  {
   "cell_type": "markdown",
   "id": "9689e600",
   "metadata": {},
   "source": [
    "# Tiền xử lý"
   ]
  },
  {
   "cell_type": "code",
   "execution_count": 8,
   "id": "84550a09",
   "metadata": {},
   "outputs": [],
   "source": [
    "data.drop_duplicates(inplace=True)"
   ]
  },
  {
   "cell_type": "markdown",
   "id": "21910ec4",
   "metadata": {},
   "source": [
    "Xem lại tập dữ liệu"
   ]
  },
  {
   "cell_type": "code",
   "execution_count": 9,
   "id": "24b53289",
   "metadata": {},
   "outputs": [
    {
     "name": "stdout",
     "output_type": "stream",
     "text": [
      "Dataset after deleted 0 duplicated rows\n"
     ]
    }
   ],
   "source": [
    "n_duplicated_rows = data.duplicated().sum()\n",
    "\n",
    "print(\"Dataset after deleted {} duplicated rows\".format(n_duplicated_rows))"
   ]
  },
  {
   "cell_type": "markdown",
   "id": "643ed852",
   "metadata": {},
   "source": [
    "# Quay lại khám phá dữ liệu"
   ]
  },
  {
   "cell_type": "markdown",
   "id": "21121104",
   "metadata": {},
   "source": [
    "## Mỗi cột có ý nghĩa gì?"
   ]
  },
  {
   "cell_type": "markdown",
   "id": "cbdf39ad",
   "metadata": {},
   "source": [
    "|column|meaning|\n",
    "|-|-|\n",
    "|text|dữ liệu dạng văn bản là 1 bản tin hay 1 bài báo nào đó|\n",
    "|domain|nguồn của văn bản này|\n",
    "|label|1 nếu đó là tin giả, 0 nếu đó là tin thật|"
   ]
  },
  {
   "cell_type": "markdown",
   "id": "b3a0e875",
   "metadata": {},
   "source": [
    "## Mỗi cột hiện đang có kiểu dữ liệu gì? Có cột nào có kiểu dữ liệu chưa phù hợp để có thể xử lý tiếp không?"
   ]
  },
  {
   "cell_type": "code",
   "execution_count": 10,
   "id": "7867e864",
   "metadata": {},
   "outputs": [
    {
     "data": {
      "text/html": [
       "<div>\n",
       "<style scoped>\n",
       "    .dataframe tbody tr th:only-of-type {\n",
       "        vertical-align: middle;\n",
       "    }\n",
       "\n",
       "    .dataframe tbody tr th {\n",
       "        vertical-align: top;\n",
       "    }\n",
       "\n",
       "    .dataframe thead th {\n",
       "        text-align: right;\n",
       "    }\n",
       "</style>\n",
       "<table border=\"1\" class=\"dataframe\">\n",
       "  <thead>\n",
       "    <tr style=\"text-align: right;\">\n",
       "      <th></th>\n",
       "      <th>0</th>\n",
       "    </tr>\n",
       "  </thead>\n",
       "  <tbody>\n",
       "    <tr>\n",
       "      <th>text</th>\n",
       "      <td>object</td>\n",
       "    </tr>\n",
       "    <tr>\n",
       "      <th>domain</th>\n",
       "      <td>object</td>\n",
       "    </tr>\n",
       "    <tr>\n",
       "      <th>label</th>\n",
       "      <td>int64</td>\n",
       "    </tr>\n",
       "  </tbody>\n",
       "</table>\n",
       "</div>"
      ],
      "text/plain": [
       "             0\n",
       "text    object\n",
       "domain  object\n",
       "label    int64"
      ]
     },
     "execution_count": 10,
     "metadata": {},
     "output_type": "execute_result"
    }
   ],
   "source": [
    "data.dtypes.to_frame()"
   ]
  },
  {
   "cell_type": "markdown",
   "id": "84997001",
   "metadata": {},
   "source": [
    "$\\to$ các cột đều mang đúng kiểu dữ liệu của nó."
   ]
  },
  {
   "cell_type": "markdown",
   "id": "ee4f27c8",
   "metadata": {},
   "source": [
    "## Số-lượng/tỉ-lệ các giá trị thiếu?"
   ]
  },
  {
   "cell_type": "code",
   "execution_count": 11,
   "id": "d3dd2e58",
   "metadata": {},
   "outputs": [
    {
     "data": {
      "text/plain": [
       "text      0\n",
       "domain    0\n",
       "label     0\n",
       "dtype: int64"
      ]
     },
     "execution_count": 11,
     "metadata": {},
     "output_type": "execute_result"
    }
   ],
   "source": [
    "data.isna().sum()"
   ]
  },
  {
   "cell_type": "markdown",
   "id": "912d3184",
   "metadata": {},
   "source": [
    "$\\to$ Ta thấy không có cột nào bị thiếu dữ liệu cả."
   ]
  },
  {
   "cell_type": "markdown",
   "id": "1a165a05",
   "metadata": {},
   "source": [
    "# Tiền xử lý dữ liệu"
   ]
  },
  {
   "cell_type": "markdown",
   "id": "24f788c8",
   "metadata": {},
   "source": [
    "## Khởi tạo các dữ liệu cần thiết bằng cách trích xuất ra từ các cột trong `dataframe`"
   ]
  },
  {
   "cell_type": "markdown",
   "id": "609f6e9d",
   "metadata": {},
   "source": [
    "Lấy ra cột `text` và xử lý (xóa các ký tự thừa như '\\n', dấu cách, '\\t',...)"
   ]
  },
  {
   "cell_type": "code",
   "execution_count": 12,
   "id": "c8d8f41d",
   "metadata": {},
   "outputs": [],
   "source": [
    "texts = data['text'].values\n",
    "for i in range(len(texts)):\n",
    "    texts[i] = texts[i].strip()"
   ]
  },
  {
   "cell_type": "markdown",
   "id": "9f83ab9b",
   "metadata": {},
   "source": [
    "Lấy ra 2 cột còn lại là `domain` và `label` rồi lưu vào biến."
   ]
  },
  {
   "cell_type": "code",
   "execution_count": 13,
   "id": "08c55fb7",
   "metadata": {},
   "outputs": [],
   "source": [
    "domains = data['domain'].values\n",
    "labels = data['label'].values"
   ]
  },
  {
   "cell_type": "code",
   "execution_count": 14,
   "id": "507f43cf",
   "metadata": {},
   "outputs": [],
   "source": [
    "with open('stopwords.txt','r',encoding='utf-8') as stopfin:\n",
    "    stopwords = stopfin.readlines()\n",
    "    for i in range(len(stopwords)):\n",
    "        stopwords[i] = word_tokenize(stopwords[i].strip(), format = 'text')"
   ]
  },
  {
   "cell_type": "code",
   "execution_count": 15,
   "id": "548bca78",
   "metadata": {},
   "outputs": [],
   "source": [
    "patweb = '[http\\:\\/\\/|https\\:\\/\\/]+[www\\.]*\\w+\\.[\\w+.|\\w+\\/\\w+\\-?%&=]+'\n",
    "\n",
    "special_char = ['@','#', '/','!','.',',','\\\\','\\'','\"','+','-','=',':',';','...','(',')','“','”']"
   ]
  },
  {
   "cell_type": "markdown",
   "id": "4e5d3060",
   "metadata": {},
   "source": [
    "## Thực hiện tách các tất cả các từ trong văn bản từ cột `text`"
   ]
  },
  {
   "cell_type": "code",
   "execution_count": 16,
   "id": "ba367cc4",
   "metadata": {
    "scrolled": true
   },
   "outputs": [
    {
     "name": "stdout",
     "output_type": "stream",
     "text": [
      "0 | 433 | 210\n",
      "1 | 152 | 74\n",
      "2 | 221 | 109\n",
      "3 | 578 | 243\n",
      "4 | 1666 | 758\n",
      "5 | 164 | 87\n",
      "6 | 223 | 103\n",
      "7 | 1218 | 483\n",
      "8 | 1142 | 556\n",
      "9 | 458 | 183\n",
      "10 | 935 | 473\n",
      "11 | 312 | 144\n",
      "12 | 472 | 236\n",
      "13 | 510 | 296\n",
      "14 | 315 | 155\n",
      "15 | 726 | 320\n",
      "16 | 351 | 135\n",
      "17 | 417 | 184\n",
      "18 | 305 | 152\n",
      "19 | 444 | 170\n",
      "20 | 703 | 258\n",
      "21 | 477 | 217\n",
      "22 | 248 | 120\n",
      "23 | 2069 | 695\n",
      "24 | 891 | 419\n",
      "25 | 481 | 245\n",
      "26 | 2054 | 799\n",
      "27 | 842 | 332\n",
      "28 | 629 | 264\n",
      "29 | 797 | 354\n",
      "30 | 450 | 211\n",
      "31 | 192 | 92\n",
      "32 | 165 | 76\n",
      "33 | 263 | 102\n",
      "34 | 665 | 356\n",
      "35 | 396 | 174\n",
      "36 | 254 | 129\n",
      "37 | 1064 | 390\n",
      "38 | 162 | 76\n",
      "39 | 1593 | 609\n",
      "40 | 337 | 134\n",
      "41 | 1128 | 464\n",
      "42 | 692 | 256\n",
      "43 | 294 | 137\n",
      "44 | 841 | 360\n",
      "45 | 221 | 100\n",
      "46 | 583 | 269\n",
      "47 | 263 | 97\n",
      "48 | 1038 | 431\n",
      "49 | 248 | 108\n",
      "50 | 182 | 76\n",
      "51 | 370 | 162\n",
      "52 | 561 | 207\n",
      "53 | 336 | 147\n",
      "54 | 261 | 102\n",
      "55 | 232 | 108\n",
      "56 | 192 | 88\n",
      "57 | 205 | 93\n",
      "58 | 283 | 124\n",
      "59 | 1154 | 437\n",
      "60 | 1431 | 573\n",
      "61 | 1435 | 537\n",
      "62 | 1376 | 609\n",
      "63 | 251 | 94\n",
      "64 | 333 | 135\n",
      "65 | 276 | 117\n",
      "66 | 289 | 146\n",
      "67 | 351 | 142\n",
      "68 | 756 | 304\n",
      "69 | 397 | 154\n",
      "70 | 210 | 96\n",
      "71 | 927 | 356\n",
      "72 | 455 | 179\n",
      "73 | 449 | 180\n",
      "74 | 279 | 98\n",
      "75 | 165 | 58\n",
      "76 | 401 | 147\n",
      "77 | 342 | 141\n",
      "78 | 240 | 99\n",
      "79 | 276 | 104\n",
      "80 | 211 | 84\n",
      "81 | 294 | 128\n",
      "82 | 363 | 129\n",
      "83 | 386 | 151\n",
      "84 | 319 | 128\n",
      "85 | 204 | 82\n",
      "86 | 198 | 82\n",
      "87 | 317 | 119\n",
      "88 | 299 | 128\n",
      "89 | 221 | 103\n",
      "90 | 749 | 366\n",
      "91 | 231 | 98\n",
      "92 | 268 | 119\n",
      "93 | 298 | 122\n",
      "94 | 523 | 234\n",
      "95 | 346 | 115\n",
      "96 | 820 | 339\n",
      "97 | 1563 | 522\n",
      "98 | 762 | 299\n",
      "99 | 384 | 191\n",
      "100 | 587 | 256\n",
      "101 | 765 | 344\n",
      "102 | 1068 | 481\n",
      "103 | 570 | 268\n",
      "104 | 739 | 383\n",
      "105 | 652 | 332\n",
      "106 | 220 | 124\n",
      "107 | 69 | 25\n",
      "108 | 294 | 151\n",
      "109 | 997 | 511\n",
      "110 | 370 | 201\n",
      "111 | 199 | 92\n",
      "112 | 217 | 107\n",
      "113 | 416 | 234\n",
      "114 | 101 | 60\n",
      "115 | 430 | 227\n",
      "116 | 84 | 43\n",
      "117 | 355 | 189\n",
      "118 | 1068 | 397\n",
      "119 | 528 | 276\n",
      "120 | 540 | 257\n",
      "121 | 388 | 216\n",
      "122 | 100 | 48\n",
      "123 | 1418 | 576\n",
      "124 | 236 | 134\n",
      "125 | 275 | 160\n",
      "126 | 771 | 353\n",
      "127 | 668 | 313\n",
      "128 | 401 | 226\n",
      "129 | 565 | 234\n",
      "130 | 569 | 263\n",
      "131 | 654 | 289\n",
      "132 | 317 | 147\n",
      "133 | 379 | 214\n",
      "134 | 840 | 444\n",
      "135 | 282 | 155\n",
      "136 | 326 | 169\n",
      "137 | 86 | 48\n",
      "138 | 78 | 45\n",
      "139 | 131 | 69\n",
      "140 | 223 | 123\n",
      "141 | 382 | 175\n",
      "142 | 528 | 252\n",
      "143 | 211 | 103\n",
      "144 | 450 | 245\n",
      "145 | 471 | 222\n",
      "146 | 331 | 147\n",
      "147 | 173 | 96\n",
      "148 | 600 | 299\n",
      "149 | 127 | 65\n",
      "150 | 530 | 214\n",
      "151 | 662 | 341\n",
      "152 | 736 | 325\n",
      "153 | 856 | 404\n",
      "154 | 217 | 120\n",
      "155 | 613 | 251\n",
      "156 | 215 | 130\n",
      "157 | 1192 | 481\n",
      "158 | 1323 | 637\n",
      "159 | 237 | 89\n",
      "160 | 1259 | 531\n",
      "161 | 69 | 37\n",
      "162 | 1137 | 445\n",
      "163 | 728 | 326\n",
      "164 | 66 | 30\n",
      "165 | 614 | 211\n",
      "166 | 102 | 54\n",
      "167 | 92 | 42\n",
      "168 | 351 | 147\n",
      "169 | 1016 | 490\n",
      "170 | 1144 | 467\n",
      "171 | 945 | 432\n",
      "172 | 136 | 61\n",
      "173 | 358 | 188\n",
      "174 | 387 | 154\n",
      "175 | 435 | 128\n",
      "176 | 1112 | 505\n",
      "177 | 402 | 197\n",
      "178 | 386 | 174\n",
      "179 | 452 | 217\n",
      "180 | 442 | 250\n",
      "181 | 666 | 324\n",
      "182 | 559 | 290\n",
      "183 | 245 | 142\n",
      "184 | 272 | 149\n",
      "185 | 359 | 206\n",
      "186 | 290 | 145\n",
      "187 | 406 | 168\n",
      "188 | 338 | 186\n",
      "189 | 481 | 234\n",
      "190 | 349 | 178\n",
      "191 | 207 | 105\n",
      "192 | 260 | 127\n",
      "193 | 126 | 60\n",
      "194 | 348 | 191\n",
      "195 | 525 | 261\n",
      "196 | 504 | 292\n",
      "197 | 272 | 131\n",
      "198 | 557 | 255\n",
      "199 | 302 | 120\n",
      "200 | 324 | 124\n",
      "201 | 552 | 257\n",
      "202 | 351 | 185\n",
      "203 | 377 | 156\n",
      "204 | 173 | 95\n",
      "205 | 921 | 381\n",
      "206 | 193 | 97\n",
      "207 | 257 | 132\n",
      "208 | 394 | 227\n",
      "209 | 218 | 92\n",
      "210 | 263 | 142\n",
      "211 | 505 | 246\n",
      "212 | 236 | 116\n",
      "213 | 1093 | 566\n",
      "214 | 517 | 233\n",
      "215 | 205 | 91\n",
      "216 | 165 | 87\n",
      "217 | 367 | 200\n",
      "218 | 387 | 226\n",
      "219 | 225 | 126\n",
      "220 | 476 | 220\n",
      "221 | 226 | 108\n"
     ]
    }
   ],
   "source": [
    "#Thực hiện tách\n",
    "i = 0\n",
    "pre_processed = []\n",
    "for text in texts:\n",
    "    after_processed = []\n",
    "    text = word_tokenize(text,format = 'text').split(' ')\n",
    "    print(str(i) + ' | ' + str(len(text)),end=' | ')\n",
    "    for word in text:\n",
    "        word = word.lower()\n",
    "        url = re.findall(patweb,word)\n",
    "        if  word not in special_char:\n",
    "            if word not in url:\n",
    "                if word not in stopwords:\n",
    "                    after_processed.append(word)\n",
    "    text_after = ' '.join(after_processed)\n",
    "    print(len(after_processed))\n",
    "    pre_processed.append(text_after)\n",
    "    i+=1\n",
    "\n",
    "#Nội dung in ra: stt của văn bản | số lượng từ được tách trước khi xử lí | số lượng từ còn lại sau khi xử lí"
   ]
  },
  {
   "cell_type": "markdown",
   "id": "f8ba7c58",
   "metadata": {},
   "source": [
    "## Lưu vào file `.csv` tập dữ liệu sau tiền xử lý"
   ]
  },
  {
   "cell_type": "code",
   "execution_count": 17,
   "id": "54c80a54",
   "metadata": {},
   "outputs": [],
   "source": [
    "#To dataframe\n",
    "out_df = pd.DataFrame([pre_processed,domains,labels], index=data.columns)\n",
    "out_df.T.to_csv('dataset_after.csv',sep='\\t',index=False)"
   ]
  },
  {
   "cell_type": "markdown",
   "id": "34a5ff11",
   "metadata": {},
   "source": [
    "# Quay lại bước khám phá dữ liệu"
   ]
  },
  {
   "cell_type": "markdown",
   "id": "47977a7e",
   "metadata": {},
   "source": [
    "- Hiểm thì vài dòng trong tập dữ liệu sau khi tiền xử lý."
   ]
  },
  {
   "cell_type": "code",
   "execution_count": 18,
   "id": "8e2308f3",
   "metadata": {},
   "outputs": [],
   "source": [
    "new_data = out_df.T"
   ]
  },
  {
   "cell_type": "code",
   "execution_count": 19,
   "id": "8da176b6",
   "metadata": {
    "scrolled": true
   },
   "outputs": [
    {
     "data": {
      "text/html": [
       "<div>\n",
       "<style scoped>\n",
       "    .dataframe tbody tr th:only-of-type {\n",
       "        vertical-align: middle;\n",
       "    }\n",
       "\n",
       "    .dataframe tbody tr th {\n",
       "        vertical-align: top;\n",
       "    }\n",
       "\n",
       "    .dataframe thead th {\n",
       "        text-align: right;\n",
       "    }\n",
       "</style>\n",
       "<table border=\"1\" class=\"dataframe\">\n",
       "  <thead>\n",
       "    <tr style=\"text-align: right;\">\n",
       "      <th></th>\n",
       "      <th>text</th>\n",
       "      <th>domain</th>\n",
       "      <th>label</th>\n",
       "    </tr>\n",
       "  </thead>\n",
       "  <tbody>\n",
       "    <tr>\n",
       "      <th>0</th>\n",
       "      <td>thủ_tướng abe cúi đầu xin_lỗi hành_động phi th...</td>\n",
       "      <td>binhluan.biz</td>\n",
       "      <td>1</td>\n",
       "    </tr>\n",
       "    <tr>\n",
       "      <th>1</th>\n",
       "      <td>thủ_tướng nhật cúi đầu xin_lỗi tinh_thần phi t...</td>\n",
       "      <td>www.ipick.vn</td>\n",
       "      <td>1</td>\n",
       "    </tr>\n",
       "    <tr>\n",
       "      <th>2</th>\n",
       "      <td>choáng cơ_trưởng đeo khăn_quàng quẩy banh sân_...</td>\n",
       "      <td>tintucqpvn.net</td>\n",
       "      <td>1</td>\n",
       "    </tr>\n",
       "    <tr>\n",
       "      <th>3</th>\n",
       "      <td>nhạc kpop hát giáo_sư nguyễn_lân_dũng ‘ thành_...</td>\n",
       "      <td>tintucqpvn.net</td>\n",
       "      <td>1</td>\n",
       "    </tr>\n",
       "    <tr>\n",
       "      <th>4</th>\n",
       "      <td>đại_học hutech áp_dụng cải_cách tiếq việt năm_...</td>\n",
       "      <td>www.gioitreviet.net</td>\n",
       "      <td>1</td>\n",
       "    </tr>\n",
       "    <tr>\n",
       "      <th>5</th>\n",
       "      <td>cười vỡ_bụng tiếng cải_cách vuông_tròn xâm_nhậ...</td>\n",
       "      <td>giadinhtiepthi.com</td>\n",
       "      <td>1</td>\n",
       "    </tr>\n",
       "    <tr>\n",
       "      <th>6</th>\n",
       "      <td>thẳng_thắn vụ_việc 25000 usd cải_cách giáo_dục...</td>\n",
       "      <td>giadinhtiepthi.com</td>\n",
       "      <td>1</td>\n",
       "    </tr>\n",
       "    <tr>\n",
       "      <th>7</th>\n",
       "      <td>hại não vọng_cổ vuông_tròn tam_giác chương_trì...</td>\n",
       "      <td>tintucqpvn.net</td>\n",
       "      <td>1</td>\n",
       "    </tr>\n",
       "    <tr>\n",
       "      <th>8</th>\n",
       "      <td>kinh_hoàng bé gái chó tấn_công cắn khắp phẫn_n...</td>\n",
       "      <td>tintucqpvn.net</td>\n",
       "      <td>1</td>\n",
       "    </tr>\n",
       "    <tr>\n",
       "      <th>9</th>\n",
       "      <td>vẽ giúp mức_độ stress tranh vòng_tròn chuyển_đ...</td>\n",
       "      <td>suckhoe.vnexpress.net</td>\n",
       "      <td>1</td>\n",
       "    </tr>\n",
       "  </tbody>\n",
       "</table>\n",
       "</div>"
      ],
      "text/plain": [
       "                                                text                 domain  \\\n",
       "0  thủ_tướng abe cúi đầu xin_lỗi hành_động phi th...           binhluan.biz   \n",
       "1  thủ_tướng nhật cúi đầu xin_lỗi tinh_thần phi t...           www.ipick.vn   \n",
       "2  choáng cơ_trưởng đeo khăn_quàng quẩy banh sân_...         tintucqpvn.net   \n",
       "3  nhạc kpop hát giáo_sư nguyễn_lân_dũng ‘ thành_...         tintucqpvn.net   \n",
       "4  đại_học hutech áp_dụng cải_cách tiếq việt năm_...    www.gioitreviet.net   \n",
       "5  cười vỡ_bụng tiếng cải_cách vuông_tròn xâm_nhậ...     giadinhtiepthi.com   \n",
       "6  thẳng_thắn vụ_việc 25000 usd cải_cách giáo_dục...     giadinhtiepthi.com   \n",
       "7  hại não vọng_cổ vuông_tròn tam_giác chương_trì...         tintucqpvn.net   \n",
       "8  kinh_hoàng bé gái chó tấn_công cắn khắp phẫn_n...         tintucqpvn.net   \n",
       "9  vẽ giúp mức_độ stress tranh vòng_tròn chuyển_đ...  suckhoe.vnexpress.net   \n",
       "\n",
       "  label  \n",
       "0     1  \n",
       "1     1  \n",
       "2     1  \n",
       "3     1  \n",
       "4     1  \n",
       "5     1  \n",
       "6     1  \n",
       "7     1  \n",
       "8     1  \n",
       "9     1  "
      ]
     },
     "execution_count": 19,
     "metadata": {},
     "output_type": "execute_result"
    }
   ],
   "source": [
    "new_data.head(10)"
   ]
  },
  {
   "cell_type": "markdown",
   "id": "cc9c181a",
   "metadata": {},
   "source": [
    "- Visualize sự phân bố của các `label` trong tập dữ liệu."
   ]
  },
  {
   "cell_type": "code",
   "execution_count": 20,
   "id": "e13302bb",
   "metadata": {},
   "outputs": [
    {
     "data": {
      "image/png": "[encoded data removed]",
      "text/plain": [
       "<Figure size 432x288 with 1 Axes>"
      ]
     },
     "metadata": {
      "needs_background": "light"
     },
     "output_type": "display_data"
    }
   ],
   "source": [
    "new_data[\"label\"].value_counts().plot.bar();"
   ]
  },
  {
   "cell_type": "markdown",
   "id": "5e84d40e",
   "metadata": {},
   "source": [
    "$\\to$ số lượng giá trị của mỗi label không chênh lệch nhau nhiều lắm."
   ]
  },
  {
   "cell_type": "markdown",
   "id": "677216dd",
   "metadata": {},
   "source": [
    "- Xem sét độ dài của mỗi văn bản trong cột `text`"
   ]
  },
  {
   "cell_type": "code",
   "execution_count": 21,
   "id": "f62e8709",
   "metadata": {},
   "outputs": [
    {
     "data": {
      "text/html": [
       "<div>\n",
       "<style scoped>\n",
       "    .dataframe tbody tr th:only-of-type {\n",
       "        vertical-align: middle;\n",
       "    }\n",
       "\n",
       "    .dataframe tbody tr th {\n",
       "        vertical-align: top;\n",
       "    }\n",
       "\n",
       "    .dataframe thead th {\n",
       "        text-align: right;\n",
       "    }\n",
       "</style>\n",
       "<table border=\"1\" class=\"dataframe\">\n",
       "  <thead>\n",
       "    <tr style=\"text-align: right;\">\n",
       "      <th></th>\n",
       "      <th>text</th>\n",
       "    </tr>\n",
       "  </thead>\n",
       "  <tbody>\n",
       "    <tr>\n",
       "      <th>min</th>\n",
       "      <td>161</td>\n",
       "    </tr>\n",
       "    <tr>\n",
       "      <th>max</th>\n",
       "      <td>5272</td>\n",
       "    </tr>\n",
       "  </tbody>\n",
       "</table>\n",
       "</div>"
      ],
      "text/plain": [
       "     text\n",
       "min   161\n",
       "max  5272"
      ]
     },
     "execution_count": 21,
     "metadata": {},
     "output_type": "execute_result"
    }
   ],
   "source": [
    "new_data[\"text\"].apply(len).to_frame().agg([min, max])"
   ]
  },
  {
   "cell_type": "markdown",
   "id": "96c73ef6",
   "metadata": {},
   "source": [
    "- Visualize độ dài của các văn bản trong cột `text`"
   ]
  },
  {
   "cell_type": "code",
   "execution_count": 22,
   "id": "b732078e",
   "metadata": {},
   "outputs": [
    {
     "data": {
      "image/png": "[encoded data removed]",
      "text/plain": [
       "<Figure size 432x288 with 1 Axes>"
      ]
     },
     "metadata": {
      "needs_background": "light"
     },
     "output_type": "display_data"
    }
   ],
   "source": [
    "new_data[\"text\"].apply(len).plot.hist(bins=50);"
   ]
  },
  {
   "cell_type": "markdown",
   "id": "82eddf94",
   "metadata": {},
   "source": [
    "# Mô hình hóa"
   ]
  },
  {
   "cell_type": "markdown",
   "id": "ce973dbf",
   "metadata": {},
   "source": [
    "## Multinomial NB"
   ]
  },
  {
   "cell_type": "markdown",
   "id": "92514226",
   "metadata": {},
   "source": [
    "### Đọc dữ liệu từ file .csv vào"
   ]
  },
  {
   "cell_type": "code",
   "execution_count": 23,
   "id": "73adc678",
   "metadata": {},
   "outputs": [],
   "source": [
    "new_data = pd.read_csv(\"dataset_after.csv\", sep='\\t')"
   ]
  },
  {
   "cell_type": "code",
   "execution_count": 24,
   "id": "1364df0f",
   "metadata": {},
   "outputs": [
    {
     "data": {
      "text/html": [
       "<div>\n",
       "<style scoped>\n",
       "    .dataframe tbody tr th:only-of-type {\n",
       "        vertical-align: middle;\n",
       "    }\n",
       "\n",
       "    .dataframe tbody tr th {\n",
       "        vertical-align: top;\n",
       "    }\n",
       "\n",
       "    .dataframe thead th {\n",
       "        text-align: right;\n",
       "    }\n",
       "</style>\n",
       "<table border=\"1\" class=\"dataframe\">\n",
       "  <thead>\n",
       "    <tr style=\"text-align: right;\">\n",
       "      <th></th>\n",
       "      <th>text</th>\n",
       "      <th>domain</th>\n",
       "      <th>label</th>\n",
       "    </tr>\n",
       "  </thead>\n",
       "  <tbody>\n",
       "    <tr>\n",
       "      <th>0</th>\n",
       "      <td>thủ_tướng abe cúi đầu xin_lỗi hành_động phi th...</td>\n",
       "      <td>binhluan.biz</td>\n",
       "      <td>1</td>\n",
       "    </tr>\n",
       "    <tr>\n",
       "      <th>1</th>\n",
       "      <td>thủ_tướng nhật cúi đầu xin_lỗi tinh_thần phi t...</td>\n",
       "      <td>www.ipick.vn</td>\n",
       "      <td>1</td>\n",
       "    </tr>\n",
       "    <tr>\n",
       "      <th>2</th>\n",
       "      <td>choáng cơ_trưởng đeo khăn_quàng quẩy banh sân_...</td>\n",
       "      <td>tintucqpvn.net</td>\n",
       "      <td>1</td>\n",
       "    </tr>\n",
       "    <tr>\n",
       "      <th>3</th>\n",
       "      <td>nhạc kpop hát giáo_sư nguyễn_lân_dũng ‘ thành_...</td>\n",
       "      <td>tintucqpvn.net</td>\n",
       "      <td>1</td>\n",
       "    </tr>\n",
       "    <tr>\n",
       "      <th>4</th>\n",
       "      <td>đại_học hutech áp_dụng cải_cách tiếq việt năm_...</td>\n",
       "      <td>www.gioitreviet.net</td>\n",
       "      <td>1</td>\n",
       "    </tr>\n",
       "  </tbody>\n",
       "</table>\n",
       "</div>"
      ],
      "text/plain": [
       "                                                text               domain  \\\n",
       "0  thủ_tướng abe cúi đầu xin_lỗi hành_động phi th...         binhluan.biz   \n",
       "1  thủ_tướng nhật cúi đầu xin_lỗi tinh_thần phi t...         www.ipick.vn   \n",
       "2  choáng cơ_trưởng đeo khăn_quàng quẩy banh sân_...       tintucqpvn.net   \n",
       "3  nhạc kpop hát giáo_sư nguyễn_lân_dũng ‘ thành_...       tintucqpvn.net   \n",
       "4  đại_học hutech áp_dụng cải_cách tiếq việt năm_...  www.gioitreviet.net   \n",
       "\n",
       "   label  \n",
       "0      1  \n",
       "1      1  \n",
       "2      1  \n",
       "3      1  \n",
       "4      1  "
      ]
     },
     "execution_count": 24,
     "metadata": {},
     "output_type": "execute_result"
    }
   ],
   "source": [
    "new_data.head()"
   ]
  },
  {
   "cell_type": "markdown",
   "id": "46fc2918",
   "metadata": {},
   "source": [
    "### Chia tập test và train"
   ]
  },
  {
   "cell_type": "code",
   "execution_count": 25,
   "id": "8377e933",
   "metadata": {},
   "outputs": [],
   "source": [
    "X_train, X_test, y_train, y_test = train_test_split(new_data['text'].values, new_data['label'].values, test_size=0.3, random_state=42)"
   ]
  },
  {
   "cell_type": "markdown",
   "id": "06897cc1",
   "metadata": {},
   "source": [
    "### Huấn luyện mô hình"
   ]
  },
  {
   "cell_type": "markdown",
   "id": "6a262c0f",
   "metadata": {},
   "source": [
    "- Tạo 1 `pipeline` gồm 2 bước:\n",
    "    - Vetorization\n",
    "    - model"
   ]
  },
  {
   "cell_type": "code",
   "execution_count": 26,
   "id": "29e1c0d9",
   "metadata": {},
   "outputs": [],
   "source": [
    "mnbc = make_pipeline(TfidfVectorizer(), MultinomialNB())"
   ]
  },
  {
   "cell_type": "code",
   "execution_count": 27,
   "id": "e05f16ed",
   "metadata": {},
   "outputs": [],
   "source": [
    "start_time = time.time()\n",
    "mnbc.fit(X_train, y_train)\n",
    "end_time = time.time()\n",
    "labels = mnbc.predict(X_test)\n",
    "score = metrics.accuracy_score(y_test,labels)\n",
    "cv_score_mean = cross_val_score(mnbc, new_data['text'].values, new_data['label'].values, cv=10).mean()"
   ]
  },
  {
   "cell_type": "code",
   "execution_count": 28,
   "id": "6f6142b2",
   "metadata": {},
   "outputs": [
    {
     "name": "stdout",
     "output_type": "stream",
     "text": [
      "Multinomial:\n",
      "Train time:  0.153\n",
      "Model training score: 0.91\n",
      "Average cross validation score:  0.858\n"
     ]
    }
   ],
   "source": [
    "print(\"Multinomial:\")\n",
    "print('Train time: ', round((end_time - start_time),3))\n",
    "print('Model training score: ' + str(round(score,3)))\n",
    "print(\"Average cross validation score: \", round(cv_score_mean,3))"
   ]
  },
  {
   "cell_type": "markdown",
   "id": "c161291b",
   "metadata": {},
   "source": [
    "### Save model lại"
   ]
  },
  {
   "cell_type": "code",
   "execution_count": 29,
   "id": "838fef79",
   "metadata": {},
   "outputs": [
    {
     "data": {
      "text/plain": [
       "['mnbc.mdl']"
      ]
     },
     "execution_count": 29,
     "metadata": {},
     "output_type": "execute_result"
    }
   ],
   "source": [
    "joblib.dump(mnbc,'mnbc.mdl')"
   ]
  },
  {
   "cell_type": "markdown",
   "id": "240af8de",
   "metadata": {},
   "source": [
    "### Import model đã được lưu"
   ]
  },
  {
   "cell_type": "code",
   "execution_count": 30,
   "id": "ff3b441f",
   "metadata": {},
   "outputs": [],
   "source": [
    "test_model = joblib.load('mnbc.mdl')"
   ]
  },
  {
   "cell_type": "code",
   "execution_count": 31,
   "id": "0729efd8",
   "metadata": {},
   "outputs": [],
   "source": [
    "labels_test = test_model.predict(X_test)"
   ]
  },
  {
   "cell_type": "code",
   "execution_count": 32,
   "id": "c2ab6fbc",
   "metadata": {},
   "outputs": [],
   "source": [
    "score_test = metrics.accuracy_score(y_test,labels_test)"
   ]
  },
  {
   "cell_type": "code",
   "execution_count": 33,
   "id": "4bd1aa71",
   "metadata": {},
   "outputs": [
    {
     "name": "stdout",
     "output_type": "stream",
     "text": [
      "0.9104477611940298\n"
     ]
    }
   ],
   "source": [
    "print(score_test)"
   ]
  },
  {
   "cell_type": "markdown",
   "id": "2480303c",
   "metadata": {},
   "source": [
    "## SGD Classifier"
   ]
  },
  {
   "cell_type": "markdown",
   "id": "92514226",
   "metadata": {},
   "source": [
    "### Đọc dữ liệu từ file .csv vào"
   ]
  },
  {
   "cell_type": "code",
   "execution_count": 34,
   "id": "73adc678",
   "metadata": {},
   "outputs": [],
   "source": [
    "new_data = pd.read_csv(\"dataset_after.csv\", sep='\\t')"
   ]
  },
  {
   "cell_type": "code",
   "execution_count": 35,
   "id": "1364df0f",
   "metadata": {},
   "outputs": [
    {
     "data": {
      "text/html": [
       "<div>\n",
       "<style scoped>\n",
       "    .dataframe tbody tr th:only-of-type {\n",
       "        vertical-align: middle;\n",
       "    }\n",
       "\n",
       "    .dataframe tbody tr th {\n",
       "        vertical-align: top;\n",
       "    }\n",
       "\n",
       "    .dataframe thead th {\n",
       "        text-align: right;\n",
       "    }\n",
       "</style>\n",
       "<table border=\"1\" class=\"dataframe\">\n",
       "  <thead>\n",
       "    <tr style=\"text-align: right;\">\n",
       "      <th></th>\n",
       "      <th>text</th>\n",
       "      <th>domain</th>\n",
       "      <th>label</th>\n",
       "    </tr>\n",
       "  </thead>\n",
       "  <tbody>\n",
       "    <tr>\n",
       "      <th>0</th>\n",
       "      <td>thủ_tướng abe cúi đầu xin_lỗi hành_động phi th...</td>\n",
       "      <td>binhluan.biz</td>\n",
       "      <td>1</td>\n",
       "    </tr>\n",
       "    <tr>\n",
       "      <th>1</th>\n",
       "      <td>thủ_tướng nhật cúi đầu xin_lỗi tinh_thần phi t...</td>\n",
       "      <td>www.ipick.vn</td>\n",
       "      <td>1</td>\n",
       "    </tr>\n",
       "    <tr>\n",
       "      <th>2</th>\n",
       "      <td>choáng cơ_trưởng đeo khăn_quàng quẩy banh sân_...</td>\n",
       "      <td>tintucqpvn.net</td>\n",
       "      <td>1</td>\n",
       "    </tr>\n",
       "    <tr>\n",
       "      <th>3</th>\n",
       "      <td>nhạc kpop hát giáo_sư nguyễn_lân_dũng ‘ thành_...</td>\n",
       "      <td>tintucqpvn.net</td>\n",
       "      <td>1</td>\n",
       "    </tr>\n",
       "    <tr>\n",
       "      <th>4</th>\n",
       "      <td>đại_học hutech áp_dụng cải_cách tiếq việt năm_...</td>\n",
       "      <td>www.gioitreviet.net</td>\n",
       "      <td>1</td>\n",
       "    </tr>\n",
       "  </tbody>\n",
       "</table>\n",
       "</div>"
      ],
      "text/plain": [
       "                                                text               domain  \\\n",
       "0  thủ_tướng abe cúi đầu xin_lỗi hành_động phi th...         binhluan.biz   \n",
       "1  thủ_tướng nhật cúi đầu xin_lỗi tinh_thần phi t...         www.ipick.vn   \n",
       "2  choáng cơ_trưởng đeo khăn_quàng quẩy banh sân_...       tintucqpvn.net   \n",
       "3  nhạc kpop hát giáo_sư nguyễn_lân_dũng ‘ thành_...       tintucqpvn.net   \n",
       "4  đại_học hutech áp_dụng cải_cách tiếq việt năm_...  www.gioitreviet.net   \n",
       "\n",
       "   label  \n",
       "0      1  \n",
       "1      1  \n",
       "2      1  \n",
       "3      1  \n",
       "4      1  "
      ]
     },
     "execution_count": 35,
     "metadata": {},
     "output_type": "execute_result"
    }
   ],
   "source": [
    "new_data.head()"
   ]
  },
  {
   "cell_type": "markdown",
   "id": "46fc2918",
   "metadata": {},
   "source": [
    "### Chia tập test và train"
   ]
  },
  {
   "cell_type": "code",
   "execution_count": 36,
   "id": "8377e933",
   "metadata": {},
   "outputs": [],
   "source": [
    "X_train, X_test, y_train, y_test = train_test_split(new_data['text'].values, new_data['label'].values, test_size=0.3, random_state=42)"
   ]
  },
  {
   "cell_type": "markdown",
   "id": "06897cc1",
   "metadata": {},
   "source": [
    "### Huấn luyện mô hình"
   ]
  },
  {
   "cell_type": "markdown",
   "id": "6a262c0f",
   "metadata": {},
   "source": [
    "- Tạo 1 `pipeline` gồm 2 bước:\n",
    "    - Vetorization\n",
    "    - model"
   ]
  },
  {
   "cell_type": "code",
   "execution_count": 37,
   "id": "29e1c0d9",
   "metadata": {},
   "outputs": [],
   "source": [
    "SGDC = make_pipeline(TfidfVectorizer(), SGDClassifier())"
   ]
  },
  {
   "cell_type": "code",
   "execution_count": 38,
   "id": "e05f16ed",
   "metadata": {},
   "outputs": [],
   "source": [
    "start_time = time.time()\n",
    "SGDC.fit(X_train, y_train)\n",
    "end_time = time.time()\n",
    "labels = SGDC.predict(X_test)\n",
    "score = metrics.accuracy_score(y_test,labels)\n",
    "cv_score_mean = cross_val_score(SGDC, new_data['text'].values, new_data['label'].values, cv=10).mean()"
   ]
  },
  {
   "cell_type": "code",
   "execution_count": 39,
   "id": "6f6142b2",
   "metadata": {},
   "outputs": [
    {
     "name": "stdout",
     "output_type": "stream",
     "text": [
      "SGD Classifier:\n",
      "Train time:  0.155\n",
      "Model training score: 0.791\n",
      "Average cross validation score:  0.875\n"
     ]
    }
   ],
   "source": [
    "print(\"SGD Classifier:\")\n",
    "print('Train time: ', round((end_time - start_time),3))\n",
    "print('Model training score: ' + str(round(score,3)))\n",
    "print(\"Average cross validation score: \", round(cv_score_mean,3))"
   ]
  },
  {
   "cell_type": "markdown",
   "id": "c161291b",
   "metadata": {},
   "source": [
    "### Save model lại"
   ]
  },
  {
   "cell_type": "code",
   "execution_count": 40,
   "id": "838fef79",
   "metadata": {},
   "outputs": [
    {
     "data": {
      "text/plain": [
       "['sgdc.mdl']"
      ]
     },
     "execution_count": 40,
     "metadata": {},
     "output_type": "execute_result"
    }
   ],
   "source": [
    "joblib.dump(SGDC,'sgdc.mdl')"
   ]
  },
  {
   "cell_type": "markdown",
   "id": "240af8de",
   "metadata": {},
   "source": [
    "### Import model đã được lưu"
   ]
  },
  {
   "cell_type": "code",
   "execution_count": 41,
   "id": "ff3b441f",
   "metadata": {},
   "outputs": [],
   "source": [
    "test_model = joblib.load('sgdc.mdl')"
   ]
  },
  {
   "cell_type": "code",
   "execution_count": 42,
   "id": "0729efd8",
   "metadata": {},
   "outputs": [],
   "source": [
    "labels_test = test_model.predict(X_test)"
   ]
  },
  {
   "cell_type": "code",
   "execution_count": 43,
   "id": "c2ab6fbc",
   "metadata": {},
   "outputs": [],
   "source": [
    "score_test = metrics.accuracy_score(y_test,labels_test)"
   ]
  },
  {
   "cell_type": "code",
   "execution_count": 44,
   "id": "4bd1aa71",
   "metadata": {},
   "outputs": [
    {
     "name": "stdout",
     "output_type": "stream",
     "text": [
      "0.7910447761194029\n"
     ]
    }
   ],
   "source": [
    "print(score_test)"
   ]
  },
  {
   "cell_type": "markdown",
   "id": "240481f7",
   "metadata": {},
   "source": [
    "## Random Forest Classifier"
   ]
  },
  {
   "cell_type": "markdown",
   "id": "92514226",
   "metadata": {},
   "source": [
    "### Đọc dữ liệu từ file .csv vào"
   ]
  },
  {
   "cell_type": "code",
   "execution_count": 45,
   "id": "73adc678",
   "metadata": {},
   "outputs": [],
   "source": [
    "new_data = pd.read_csv(\"dataset_after.csv\", sep='\\t')"
   ]
  },
  {
   "cell_type": "code",
   "execution_count": 46,
   "id": "1364df0f",
   "metadata": {},
   "outputs": [
    {
     "data": {
      "text/html": [
       "<div>\n",
       "<style scoped>\n",
       "    .dataframe tbody tr th:only-of-type {\n",
       "        vertical-align: middle;\n",
       "    }\n",
       "\n",
       "    .dataframe tbody tr th {\n",
       "        vertical-align: top;\n",
       "    }\n",
       "\n",
       "    .dataframe thead th {\n",
       "        text-align: right;\n",
       "    }\n",
       "</style>\n",
       "<table border=\"1\" class=\"dataframe\">\n",
       "  <thead>\n",
       "    <tr style=\"text-align: right;\">\n",
       "      <th></th>\n",
       "      <th>text</th>\n",
       "      <th>domain</th>\n",
       "      <th>label</th>\n",
       "    </tr>\n",
       "  </thead>\n",
       "  <tbody>\n",
       "    <tr>\n",
       "      <th>0</th>\n",
       "      <td>thủ_tướng abe cúi đầu xin_lỗi hành_động phi th...</td>\n",
       "      <td>binhluan.biz</td>\n",
       "      <td>1</td>\n",
       "    </tr>\n",
       "    <tr>\n",
       "      <th>1</th>\n",
       "      <td>thủ_tướng nhật cúi đầu xin_lỗi tinh_thần phi t...</td>\n",
       "      <td>www.ipick.vn</td>\n",
       "      <td>1</td>\n",
       "    </tr>\n",
       "    <tr>\n",
       "      <th>2</th>\n",
       "      <td>choáng cơ_trưởng đeo khăn_quàng quẩy banh sân_...</td>\n",
       "      <td>tintucqpvn.net</td>\n",
       "      <td>1</td>\n",
       "    </tr>\n",
       "    <tr>\n",
       "      <th>3</th>\n",
       "      <td>nhạc kpop hát giáo_sư nguyễn_lân_dũng ‘ thành_...</td>\n",
       "      <td>tintucqpvn.net</td>\n",
       "      <td>1</td>\n",
       "    </tr>\n",
       "    <tr>\n",
       "      <th>4</th>\n",
       "      <td>đại_học hutech áp_dụng cải_cách tiếq việt năm_...</td>\n",
       "      <td>www.gioitreviet.net</td>\n",
       "      <td>1</td>\n",
       "    </tr>\n",
       "  </tbody>\n",
       "</table>\n",
       "</div>"
      ],
      "text/plain": [
       "                                                text               domain  \\\n",
       "0  thủ_tướng abe cúi đầu xin_lỗi hành_động phi th...         binhluan.biz   \n",
       "1  thủ_tướng nhật cúi đầu xin_lỗi tinh_thần phi t...         www.ipick.vn   \n",
       "2  choáng cơ_trưởng đeo khăn_quàng quẩy banh sân_...       tintucqpvn.net   \n",
       "3  nhạc kpop hát giáo_sư nguyễn_lân_dũng ‘ thành_...       tintucqpvn.net   \n",
       "4  đại_học hutech áp_dụng cải_cách tiếq việt năm_...  www.gioitreviet.net   \n",
       "\n",
       "   label  \n",
       "0      1  \n",
       "1      1  \n",
       "2      1  \n",
       "3      1  \n",
       "4      1  "
      ]
     },
     "execution_count": 46,
     "metadata": {},
     "output_type": "execute_result"
    }
   ],
   "source": [
    "new_data.head()"
   ]
  },
  {
   "cell_type": "markdown",
   "id": "46fc2918",
   "metadata": {},
   "source": [
    "### Chia tập test và train"
   ]
  },
  {
   "cell_type": "code",
   "execution_count": 47,
   "id": "8377e933",
   "metadata": {},
   "outputs": [],
   "source": [
    "X_train, X_test, y_train, y_test = train_test_split(new_data['text'].values, new_data['label'].values, test_size=0.3, random_state=42)"
   ]
  },
  {
   "cell_type": "markdown",
   "id": "06897cc1",
   "metadata": {},
   "source": [
    "### Huấn luyện mô hình"
   ]
  },
  {
   "cell_type": "markdown",
   "id": "6a262c0f",
   "metadata": {},
   "source": [
    "- Tạo 1 `pipeline` gồm 2 bước:\n",
    "    - Vetorization\n",
    "    - model"
   ]
  },
  {
   "cell_type": "code",
   "execution_count": 48,
   "id": "fba8a1f2",
   "metadata": {},
   "outputs": [],
   "source": [
    "model = make_pipeline(TfidfVectorizer(), RandomForestClassifier())"
   ]
  },
  {
   "cell_type": "markdown",
   "id": "8f0b71dd",
   "metadata": {},
   "source": [
    "- Xem tên của các **Hyperparameter**"
   ]
  },
  {
   "cell_type": "code",
   "execution_count": 49,
   "id": "064d48d6",
   "metadata": {},
   "outputs": [
    {
     "data": {
      "text/plain": [
       "dict_keys(['memory', 'steps', 'verbose', 'tfidfvectorizer', 'randomforestclassifier', 'tfidfvectorizer__analyzer', 'tfidfvectorizer__binary', 'tfidfvectorizer__decode_error', 'tfidfvectorizer__dtype', 'tfidfvectorizer__encoding', 'tfidfvectorizer__input', 'tfidfvectorizer__lowercase', 'tfidfvectorizer__max_df', 'tfidfvectorizer__max_features', 'tfidfvectorizer__min_df', 'tfidfvectorizer__ngram_range', 'tfidfvectorizer__norm', 'tfidfvectorizer__preprocessor', 'tfidfvectorizer__smooth_idf', 'tfidfvectorizer__stop_words', 'tfidfvectorizer__strip_accents', 'tfidfvectorizer__sublinear_tf', 'tfidfvectorizer__token_pattern', 'tfidfvectorizer__tokenizer', 'tfidfvectorizer__use_idf', 'tfidfvectorizer__vocabulary', 'randomforestclassifier__bootstrap', 'randomforestclassifier__ccp_alpha', 'randomforestclassifier__class_weight', 'randomforestclassifier__criterion', 'randomforestclassifier__max_depth', 'randomforestclassifier__max_features', 'randomforestclassifier__max_leaf_nodes', 'randomforestclassifier__max_samples', 'randomforestclassifier__min_impurity_decrease', 'randomforestclassifier__min_impurity_split', 'randomforestclassifier__min_samples_leaf', 'randomforestclassifier__min_samples_split', 'randomforestclassifier__min_weight_fraction_leaf', 'randomforestclassifier__n_estimators', 'randomforestclassifier__n_jobs', 'randomforestclassifier__oob_score', 'randomforestclassifier__random_state', 'randomforestclassifier__verbose', 'randomforestclassifier__warm_start'])"
      ]
     },
     "execution_count": 49,
     "metadata": {},
     "output_type": "execute_result"
    }
   ],
   "source": [
    "model.get_params().keys()"
   ]
  },
  {
   "cell_type": "markdown",
   "id": "8fdb6d53",
   "metadata": {},
   "source": [
    "Chọn ra các **Hyperparameter** cần tuning:\n",
    "- randomforestclassifier__bootstrap\n",
    "- randomforestclassifier__n_estimators\n",
    "- randomforestclassifier__max_depth\n",
    "- randomforestclassifier__max_features\n",
    "- randomforestclassifier__min_samples_leaf\n",
    "- randomforestclassifier__min_samples_split"
   ]
  },
  {
   "cell_type": "code",
   "execution_count": 50,
   "id": "859b4fbe",
   "metadata": {},
   "outputs": [],
   "source": [
    "params = {\n",
    "    \"randomforestclassifier__bootstrap\": [True, False],\n",
    "    \"randomforestclassifier__n_estimators\": [100, 200, 400, 600, 800, 1000, 1200, 1400],\n",
    "    \"randomforestclassifier__max_depth\": [10, 20, 30, 50, 60, 100],\n",
    "    \"randomforestclassifier__max_features\": [\"auto\", \"sqrt\"],\n",
    "    \"randomforestclassifier__min_samples_leaf\": [1, 2, 3, 4],\n",
    "    \"randomforestclassifier__min_samples_split\": [1, 2, 3, 4, 5, 6]\n",
    "}"
   ]
  },
  {
   "cell_type": "code",
   "execution_count": 51,
   "id": "b18b486f",
   "metadata": {},
   "outputs": [],
   "source": [
    "search = RandomizedSearchCV(estimator=model,\\\n",
    "                           param_distributions=params,\\\n",
    "                           n_iter=10,\\\n",
    "                           n_jobs=-1,\\\n",
    "                           verbose=10)"
   ]
  },
  {
   "cell_type": "markdown",
   "id": "9a6b2f0a",
   "metadata": {},
   "source": [
    "- Tiến hành quá trình tuning"
   ]
  },
  {
   "cell_type": "code",
   "execution_count": 52,
   "id": "cc5f6c9f",
   "metadata": {},
   "outputs": [
    {
     "name": "stdout",
     "output_type": "stream",
     "text": [
      "Fitting 5 folds for each of 10 candidates, totalling 50 fits\n"
     ]
    },
    {
     "name": "stderr",
     "output_type": "stream",
     "text": [
      "D:\\anaconda3\\lib\\site-packages\\sklearn\\model_selection\\_search.py:922: UserWarning: One or more of the test scores are non-finite: [0.83870968 0.87741935 0.85806452 0.89032258 0.8516129  0.88387097\n",
      " 0.89032258        nan 0.87096774 0.88387097]\n",
      "  warnings.warn(\n"
     ]
    },
    {
     "data": {
      "text/plain": [
       "RandomizedSearchCV(estimator=Pipeline(steps=[('tfidfvectorizer',\n",
       "                                              TfidfVectorizer()),\n",
       "                                             ('randomforestclassifier',\n",
       "                                              RandomForestClassifier())]),\n",
       "                   n_jobs=-1,\n",
       "                   param_distributions={'randomforestclassifier__bootstrap': [True,\n",
       "                                                                              False],\n",
       "                                        'randomforestclassifier__max_depth': [10,\n",
       "                                                                              20,\n",
       "                                                                              30,\n",
       "                                                                              50,\n",
       "                                                                              60,\n",
       "                                                                              100],\n",
       "                                        'randomforestclassifier__max_features': ['auto',\n",
       "                                                                                 'sqrt'],\n",
       "                                        'randomforestclassifier__min_samples_leaf': [1,\n",
       "                                                                                     2,\n",
       "                                                                                     3,\n",
       "                                                                                     4],\n",
       "                                        'randomforestclassifier__min_samples_split': [1,\n",
       "                                                                                      2,\n",
       "                                                                                      3,\n",
       "                                                                                      4,\n",
       "                                                                                      5,\n",
       "                                                                                      6],\n",
       "                                        'randomforestclassifier__n_estimators': [100,\n",
       "                                                                                 200,\n",
       "                                                                                 400,\n",
       "                                                                                 600,\n",
       "                                                                                 800,\n",
       "                                                                                 1000,\n",
       "                                                                                 1200,\n",
       "                                                                                 1400]},\n",
       "                   verbose=10)"
      ]
     },
     "execution_count": 52,
     "metadata": {},
     "output_type": "execute_result"
    }
   ],
   "source": [
    "search.fit(X_train, y_train)"
   ]
  },
  {
   "cell_type": "markdown",
   "id": "b9b93859",
   "metadata": {},
   "source": [
    "- lưu các `Hyperparameter` tốt nhất lại để set cho `model`"
   ]
  },
  {
   "cell_type": "code",
   "execution_count": 53,
   "id": "4ebe7d46",
   "metadata": {},
   "outputs": [],
   "source": [
    "best_params = search.best_params_"
   ]
  },
  {
   "cell_type": "code",
   "execution_count": 54,
   "id": "89e4ace4",
   "metadata": {},
   "outputs": [
    {
     "data": {
      "text/plain": [
       "Pipeline(steps=[('tfidfvectorizer', TfidfVectorizer()),\n",
       "                ('randomforestclassifier',\n",
       "                 RandomForestClassifier(max_depth=50, max_features='sqrt',\n",
       "                                        min_samples_leaf=3, min_samples_split=4,\n",
       "                                        n_estimators=1400))])"
      ]
     },
     "execution_count": 54,
     "metadata": {},
     "output_type": "execute_result"
    }
   ],
   "source": [
    "model.set_params(**best_params)"
   ]
  },
  {
   "cell_type": "code",
   "execution_count": 55,
   "id": "b8b7100f",
   "metadata": {},
   "outputs": [],
   "source": [
    "start_time = time.time()\n",
    "model.fit(X_train, y_train)\n",
    "end_time = time.time()"
   ]
  },
  {
   "cell_type": "code",
   "execution_count": 56,
   "id": "6c2ffc28",
   "metadata": {},
   "outputs": [],
   "source": [
    "y_pred = model.predict(X_test)"
   ]
  },
  {
   "cell_type": "code",
   "execution_count": 57,
   "id": "51c25275",
   "metadata": {},
   "outputs": [],
   "source": [
    "test_score = metrics.accuracy_score(y_test, y_pred)\n",
    "cv_score_mean = cross_val_score(model, new_data[\"text\"].values, new_data[\"label\"].values, cv=10).mean()"
   ]
  },
  {
   "cell_type": "code",
   "execution_count": 58,
   "id": "b470f1c8",
   "metadata": {},
   "outputs": [
    {
     "name": "stdout",
     "output_type": "stream",
     "text": [
      "Random Forest Classifier\n",
      "Training time: 1.839s\n",
      "Accuracy on Test Set: 0.866\n",
      "Average cross Validation Score: 0.867\n"
     ]
    }
   ],
   "source": [
    "print(\"Random Forest Classifier\")\n",
    "print(\"Training time: {}s\".format(round(end_time - start_time, 3)))\n",
    "print(\"Accuracy on Test Set: {}\".format(round(test_score, 3)))\n",
    "print(\"Average cross Validation Score: {}\".format(round(cv_score_mean, 3)))"
   ]
  },
  {
   "cell_type": "markdown",
   "id": "aa8b318a",
   "metadata": {},
   "source": [
    "### Save model để lại"
   ]
  },
  {
   "cell_type": "code",
   "execution_count": 59,
   "id": "aadad79b",
   "metadata": {},
   "outputs": [
    {
     "data": {
      "text/plain": [
       "['rdfc.mdl']"
      ]
     },
     "execution_count": 59,
     "metadata": {},
     "output_type": "execute_result"
    }
   ],
   "source": [
    "joblib.dump(model, \"rdfc.mdl\")"
   ]
  },
  {
   "cell_type": "markdown",
   "id": "deb751d8",
   "metadata": {},
   "source": [
    "### Import model đã được lưu"
   ]
  },
  {
   "cell_type": "code",
   "execution_count": 61,
   "id": "8b05a0ed",
   "metadata": {},
   "outputs": [],
   "source": [
    "rdfc = joblib.load(\"rdfc.mdl\")"
   ]
  },
  {
   "cell_type": "code",
   "execution_count": 62,
   "id": "4e377cb9",
   "metadata": {},
   "outputs": [],
   "source": [
    "y_pred = rdfc.predict(X_test)"
   ]
  },
  {
   "cell_type": "code",
   "execution_count": 63,
   "id": "51145fd3",
   "metadata": {},
   "outputs": [],
   "source": [
    "test_score = metrics.accuracy_score(y_pred, y_test)"
   ]
  },
  {
   "cell_type": "code",
   "execution_count": 64,
   "id": "cd2b7177",
   "metadata": {},
   "outputs": [
    {
     "name": "stdout",
     "output_type": "stream",
     "text": [
      "Saved model's Accuracy in test set: 0.8656716417910447\n"
     ]
    }
   ],
   "source": [
    "print(\"Saved model's Accuracy in test set: {}\".format(test_score))"
   ]
  },
  {
   "cell_type": "code",
   "execution_count": 70,
   "id": "0fbfcfd3",
   "metadata": {},
   "outputs": [],
   "source": [
    "def preprocess_text(text):\n",
    "     text = text.strip()\n",
    "     with open('stopwords.txt','r',encoding='utf-8') as stopfin:\n",
    "          stopwords = stopfin.readlines()\n",
    "          for i in range(len(stopwords)):\n",
    "               stopwords[i] = word_tokenize(stopwords[i].strip(), format = 'text')\n",
    "          \n",
    "     patweb = '[http\\:\\/\\/|https\\:\\/\\/]+[www\\.]*\\w+\\.[\\w+.|\\w+\\/\\w+\\-?%&=]+'\n",
    "\n",
    "     special_char = ['@','#', '/','!','.',',','\\\\','\\'','\"','+','-','=',':',';','...','(',')','“','”']\n",
    "\n",
    "     after_processed = []\n",
    "     text = word_tokenize(text,format = 'text').split(' ')\n",
    "     for word in text:\n",
    "          word = word.lower()\n",
    "          url = re.findall(patweb,word)\n",
    "          if  word not in special_char:\n",
    "               if word not in url:\n",
    "                    if word not in stopwords:\n",
    "                         after_processed.append(word)\n",
    "     text_after = ' '.join(after_processed)\n",
    "\n",
    "     return text_after"
   ]
  },
  {
   "cell_type": "code",
   "execution_count": 86,
   "id": "c349f278",
   "metadata": {},
   "outputs": [],
   "source": [
    "news = \"\"\"Thủ tướng Abe cúi đầu xin lỗi vì hành động phi thể thao của tuyển Nhật\n",
    "Theo Sankei Sports, sáng nay Thủ tướng Nhật Bản Shinzo Abe công khai gửi lời xin lỗi tới Nhật hoàng và toàn bộ người dân vì tinh thần thi đấu phi thể thao của đội tuyển Nhật tại World Cup 2018.\"\"\""
   ]
  },
  {
   "cell_type": "code",
   "execution_count": 87,
   "id": "ea2ebad2",
   "metadata": {},
   "outputs": [],
   "source": [
    "txt = [preprocess_text(news)]"
   ]
  },
  {
   "cell_type": "code",
   "execution_count": 89,
   "id": "5bc0dc9a",
   "metadata": {},
   "outputs": [
    {
     "data": {
      "text/plain": [
       "<1x22 sparse matrix of type '<class 'numpy.float64'>'\n",
       "\twith 22 stored elements in Compressed Sparse Row format>"
      ]
     },
     "execution_count": 89,
     "metadata": {},
     "output_type": "execute_result"
    }
   ],
   "source": [
    "TfidfVectorizer().fit_transform(txt)"
   ]
  }
 ],
 "metadata": {
  "kernelspec": {
   "display_name": "Python 3 (ipykernel)",
   "language": "python",
   "name": "python3"
  },
  "language_info": {
   "codemirror_mode": {
    "name": "ipython",
    "version": 3
   },
   "file_extension": ".py",
   "mimetype": "text/x-python",
   "name": "python",
   "nbconvert_exporter": "python",
   "pygments_lexer": "ipython3",
   "version": "3.8.8"
  }
 },
 "nbformat": 4,
 "nbformat_minor": 5
}
